{
 "cells": [
  {
   "cell_type": "markdown",
   "id": "4e97a434",
   "metadata": {},
   "source": [
    "<img style=\"float: left; margin: 30px 15px 15px 15px;\" src=\"https://pngimage.net/wp-content/uploads/2018/06/logo-iteso-png-5.png\" width=\"300\" height=\"500\" /> \n",
    "    \n",
    "    \n",
    "### <font color='navy'> Simulación de procesos financieros. \n",
    "\n",
    "**Nombres:** Gustavo Adrián Herrera Barragán & Luis Eduardo Sánchez Soto.\n",
    "\n",
    "**Fecha:** 11 de marzo del 2022.\n",
    "\n",
    "**Expediente** : 734546 & 734350 ######.\n",
    "**Profesor:** Oscar David Jaramillo Zuluaga.\n",
    "    \n",
    "**Link Github**: https://github.com/adrianhb01/ProyectoConjunto_GHerrera_LSanchez.git\n"
   ]
  },
  {
   "cell_type": "markdown",
   "id": "e6c71edd",
   "metadata": {},
   "source": [
    "–––––––––––––––––––––––––––––––––––––––––––––––––––––––––––––––––––––––––––––––––––––––––––––––––––––––––––––––––––––––––––––––––––––––––––"
   ]
  },
  {
   "cell_type": "markdown",
   "id": "aa4c67ea",
   "metadata": {},
   "source": [
    "# Tarea 4: Clase: 9"
   ]
  },
  {
   "cell_type": "markdown",
   "id": "caa57ab2",
   "metadata": {},
   "source": [
    ">### <font color ='red'> **Tarea 4** \n",
    "    \n",
    "> Para las siguiente dos funciones, genere muestres aleatorias que distribuyan según la función dada usando el método de la transformada inversa y grafique el histograma de 1000 muestras generadas con el método de la transformada inversa y compárela con el función $f(x)$ **(recuerde que $f(x)$ es la distribución de probabilidad y $F(x)$ es la distribución de probabilidad acumulada)** [ver este enlace para más información](https://es.wikipedia.org/wiki/Funci%C3%B3n_de_distribuci%C3%B3n). Este procedimiento se realiza con el fín de validar que el procedimiento y los resultados son correctos.\n",
    "    \n",
    "> 1. Generación variable aleatoria continua\n",
    ">El tiempo en el cual un movimiento browniano se mantiene sobre su punto máximo en el intervalo [0,1] tiene una distribución\n",
    ">$$F(x)=\\frac{2}{\\pi}\\sin^{-1}(\\sqrt x),\\quad 0\\leq x\\leq 1$$ </font>\n",
    "\n",
    "> 2. Generación variable aleatoria Discreta\n",
    "> La distribución binomial modela el número de éxitos de n ensayos independientes donde hay una probabilidad p de éxito en cada ensayo.\n",
    "> Generar una variable aletoria binomial con parámetros $n=10$ y $p=0.7$. Recordar que $$X\\sim binomial(n,p) \\longrightarrow p_i=P(X=i)=\\frac{n!}{i!(n-i)!}p^i(1-p)^{n-i},\\quad i=0,1,\\cdots,n$$\n",
    "> Por propiedades de la operación factorial la anterior $p_i$ se puede escribir como:\n",
    "> $$p_{i+1}=\\frac{n-i}{i+1}\\frac{p}{1-p} p_i $$\n",
    "\n",
    "> **Nota:** Por notación recuerde que para el caso continuo $f(x)$ es la distribución de probabilidad (PDF), mientras $F(x)$ corresponde a la distribución de probabilidad acumulada (CDF). Para el caso discreto, $P(X=i)$ corresponde a su distribución de probabilidad (PMF) y $ F_{X}(x)=\\operatorname {P} (X\\leq x)=\\sum _{x_{i}\\leq x}\\operatorname {P} (X=x_{i})=\\sum _{x_{i}\\leq x}p(x_{i})$, corresponde a su distribución de probabilidad acumulada (CDF).\n"
   ]
  },
  {
   "cell_type": "markdown",
   "id": "35238499",
   "metadata": {},
   "source": [
    "–––––––––––––––––––––––––––––––––––––––––––––––––––––––––––––––––––––––––––––––––––––––––––––––––––––––––––––––––––––––––––––––––––––––––––"
   ]
  },
  {
   "cell_type": "code",
   "execution_count": 2,
   "id": "2e335d60",
   "metadata": {},
   "outputs": [],
   "source": [
    "import numpy as np\n",
    "import seaborn as sns\n",
    "import matplotlib.pyplot as plt\n",
    "import pandas as pd"
   ]
  },
  {
   "cell_type": "markdown",
   "id": "43714c82",
   "metadata": {},
   "source": [
    "### Ejercicio 1: \n",
    ">Generación variable aleatoria continua\n",
    ">El tiempo en el cual un movimiento browniano se mantiene sobre su punto máximo en el intervalo [0,1] tiene una distribución\n",
    ">$$F(x)=\\frac{2}{\\pi}\\sin^{-1}(\\sqrt x),\\quad 0\\leq x\\leq 1$$ </font>\n"
   ]
  },
  {
   "cell_type": "markdown",
   "id": "ae69ffaa",
   "metadata": {},
   "source": [
    "#### Código de solución estudiante 1"
   ]
  },
  {
   "cell_type": "code",
   "execution_count": 30,
   "id": "7ae475de",
   "metadata": {},
   "outputs": [],
   "source": [
    "#Código"
   ]
  },
  {
   "cell_type": "markdown",
   "id": "2b2bc33b",
   "metadata": {},
   "source": [
    "#### Código de solución estudiante 2"
   ]
  },
  {
   "cell_type": "code",
   "execution_count": 31,
   "id": "9515ea17",
   "metadata": {},
   "outputs": [],
   "source": [
    "#Código"
   ]
  },
  {
   "cell_type": "markdown",
   "id": "e17c927d",
   "metadata": {},
   "source": [
    "Igualamos la funcion de distribución a una distribucion **Uniforme** debido al intervalo que delimita  $F(x)$\n",
    "$$\\frac{2}{\\pi}\\sin^{-1}(\\sqrt x)=U$$\n",
    "$$\\sin^{-1}(\\sqrt x)=\\frac{U\\pi}{2}$$\n",
    "$$\\sqrt x=\\sin(\\frac{U\\pi}{2})$$\n",
    "$$\\sqrt x=\\sin(\\frac{U\\pi}{2})$$\n",
    "\n",
    "La funcion inversa es igual a \n",
    "$$x=\\sin^{2}(\\frac{U\\pi}{2})$$\n",
    "En el intervalo\n",
    "$$\\quad 0\\leq U\\leq 1$$"
   ]
  },
  {
   "cell_type": "code",
   "execution_count": 33,
   "id": "dfaca58f",
   "metadata": {},
   "outputs": [
    {
     "name": "stderr",
     "output_type": "stream",
     "text": [
      "C:\\Users\\lalos\\anaconda3\\lib\\site-packages\\seaborn\\_decorators.py:36: FutureWarning: Pass the following variables as keyword args: x, y. From version 0.12, the only valid positional argument will be `data`, and passing other arguments without an explicit keyword will result in an error or misinterpretation.\n",
      "  warnings.warn(\n"
     ]
    },
    {
     "data": {
      "image/png": "[encoded data removed]",
      "text/plain": [
       "<Figure size 864x432 with 2 Axes>"
      ]
     },
     "metadata": {},
     "output_type": "display_data"
    }
   ],
   "source": [
    "#creamos una funcion lambda que retorna la inversa de F(x) variando un punto uniformemente distribuido\n",
    "browniano = lambda x: (np.sin((np.pi/2)*x))**2 \n",
    "# creamos 10000 valores aleatorios de una distribucion normal con numpy.random.rand()\n",
    "dist = np.random.rand(100000)\n",
    "\n",
    "fig, ax1 = plt.subplots(figsize=(12,6))\n",
    "\n",
    "sns.histplot(browniano(dist), ax=ax1, color='blue', label='Histograma de frecuencias')\n",
    "ax1.set_xlabel('Valores aleatorios')\n",
    "ax1.set_ylabel('Frecuencia', color='blue')\n",
    "ax1.tick_params(axis='y', labelcolor='blue')\n",
    "ax1.set_title('Histograma y distribución de probabilidad con 100,000 generaciones')\n",
    "\n",
    "x = np.linspace(0.01,0.99,200)\n",
    "y = lambda x: 1/(np.pi*(np.sqrt(x*(1-x))))\n",
    "ax2 = ax1.twinx()\n",
    "sns.lineplot(x,y(x), ax=ax2, color='red', label='Distribución')\n",
    "ax2.set_ylabel('Densidad de probabilidad', color='red')\n",
    "ax2.tick_params(axis='y', labelcolor='red')\n",
    "\n",
    "sns.set_style('whitegrid')\n",
    "sns.set_palette('colorblind')\n",
    "\n",
    "ax1.legend(loc='upper left')\n",
    "ax2.legend(loc='upper right')\n",
    "\n",
    "plt.show()"
   ]
  },
  {
   "cell_type": "markdown",
   "id": "a9038ee4",
   "metadata": {},
   "source": [
    "–––––––––––––––––––––––––––––––––––––––––––––––––––––––––––––––––––––––––––––––––––––––––––––––––––––––––––––––––––––––––––––––––––––––––––"
   ]
  },
  {
   "cell_type": "markdown",
   "id": "62e2871e",
   "metadata": {},
   "source": [
    "### Ejercicio 2: \n",
    "> Generación variable aleatoria Discreta\n",
    "> La distribución binomial modela el número de éxitos de n ensayos independientes donde hay una probabilidad p de éxito en cada ensayo.\n",
    "> Generar una variable aletoria binomial con parámetros $n=10$ y $p=0.7$. Recordar que $$X\\sim binomial(n,p) \\longrightarrow p_i=P(X=i)=\\frac{n!}{i!(n-i)!}p^i(1-p)^{n-i},\\quad i=0,1,\\cdots,n$$\n",
    "> Por propiedades de la operación factorial la anterior $p_i$ se puede escribir como:\n",
    "> $$p_{i+1}=\\frac{n-i}{i+1}\\frac{p}{1-p} p_i $$"
   ]
  },
  {
   "cell_type": "markdown",
   "id": "de606afb",
   "metadata": {},
   "source": [
    "#### Código de solución estudiante 1"
   ]
  },
  {
   "cell_type": "code",
   "execution_count": 32,
   "id": "eab05774",
   "metadata": {},
   "outputs": [],
   "source": [
    "#Código"
   ]
  },
  {
   "cell_type": "markdown",
   "id": "d07205fd",
   "metadata": {},
   "source": [
    "#### Código de solución estudiante 2"
   ]
  },
  {
   "cell_type": "code",
   "execution_count": 33,
   "id": "6e40557d",
   "metadata": {},
   "outputs": [],
   "source": [
    "#Código"
   ]
  },
  {
   "cell_type": "markdown",
   "id": "fcba391a",
   "metadata": {},
   "source": [
    "–––––––––––––––––––––––––––––––––––––––––––––––––––––––––––––––––––––––––––––––––––––––––––––––––––––––––––––––––––––––––––––––––––––––––––"
   ]
  },
  {
   "cell_type": "markdown",
   "id": "629a371b",
   "metadata": {},
   "source": [
    "# Tarea 4: Clase 10"
   ]
  },
  {
   "cell_type": "markdown",
   "id": "306bb76f",
   "metadata": {},
   "source": [
    "### Ejemplo binomial: \n",
    "La distribución binomial modela el número de éxitos de n ensayos independientes donde hay una probabilidad p de éxito en cada ensayo.\n",
    "\n",
    "Generar una variable aletoria binomial con parámetros $n=10$ y $p=0.7$. Recordar que\n",
    "$$X\\sim binomial(n,p) \\longrightarrow p_i=P(X=i)=\\frac{n!}{i!(n-i)!}p^i(1-p)^{n-i},\\quad i=0,1,\\cdots,n$$\n",
    "> ## <font color ='red'>Tarea: Demostrar la validez de la siguiente ecuación\n",
    ">$$p_{i+1}=\\frac{n-i}{i+1}\\frac{p}{1-p} p_i \\longrightarrow \\text{Hablar de las ventajas que sea recursiva}$$"
   ]
  },
  {
   "cell_type": "markdown",
   "id": "172ad559",
   "metadata": {},
   "source": [
    "#### Código de solución estudiante 1"
   ]
  },
  {
   "cell_type": "code",
   "execution_count": 34,
   "id": "8a34636b",
   "metadata": {},
   "outputs": [],
   "source": [
    "#Código"
   ]
  },
  {
   "cell_type": "markdown",
   "id": "9dfb1e33",
   "metadata": {},
   "source": [
    "#### Código de solución estudiante 2"
   ]
  },
  {
   "cell_type": "code",
   "execution_count": 35,
   "id": "a2b4d216",
   "metadata": {},
   "outputs": [],
   "source": [
    "#Código"
   ]
  },
  {
   "cell_type": "markdown",
   "id": "92c617c3",
   "metadata": {},
   "source": [
    "–––––––––––––––––––––––––––––––––––––––––––––––––––––––––––––––––––––––––––––––––––––––––––––––––––––––––––––––––––––––––––––––––––––––––––"
   ]
  },
  {
   "cell_type": "markdown",
   "id": "ae9c5695",
   "metadata": {},
   "source": [
    "> ## <font color ='red'>Tarea\n",
    "Seguir un procedimiento similar al mostrado cuando se generó una distribución binomial, pero en esta caso genere un código que genere variables aletorias Poisson cuya función de distribución de probabilidad esta dada por:\n",
    ">$$P(k,\\lambda)=\\frac{e^{-\\lambda}(\\lambda)^k}{k!}$$\n",
    "    \n",
    "> Demuestre matemáticamente que \n",
    "> $$P(k+1)=\\frac{\\lambda}{k+1}P(k)$$\n",
    "> y a partir de esta relación genere variables aletorias que distribuyen poisson usando el método de la transformada inversa.\n",
    "\n",
    "Enlace: https://es.wikipedia.org/wiki/Distribuci%C3%B3n_de_Poisson"
   ]
  },
  {
   "cell_type": "markdown",
   "id": "183c771d",
   "metadata": {},
   "source": [
    "$\n",
    "\\begin{aligned}\n",
    "\\frac{p_{k+1}}{p_k}& = \\frac{e^{-\\lambda}(\\lambda)^k}{k!} \\\\\n",
    "& = \\frac{e^{-\\lambda}(\\lambda)^k}{k!}\n",
    "\\end{aligned}\n",
    "$"
   ]
  },
  {
   "cell_type": "markdown",
   "id": "ce2eb9e0",
   "metadata": {},
   "source": [
    "#### Código de solución estudiante 1"
   ]
  },
  {
   "cell_type": "code",
   "execution_count": 36,
   "id": "0effc58f",
   "metadata": {},
   "outputs": [],
   "source": [
    "#Código"
   ]
  },
  {
   "cell_type": "markdown",
   "id": "d22db78e",
   "metadata": {},
   "source": [
    "#### Código de solución estudiante 2"
   ]
  },
  {
   "cell_type": "code",
   "execution_count": 37,
   "id": "3592afd7",
   "metadata": {},
   "outputs": [],
   "source": [
    "#Código"
   ]
  },
  {
   "cell_type": "markdown",
   "id": "7e513b80",
   "metadata": {},
   "source": [
    "–––––––––––––––––––––––––––––––––––––––––––––––––––––––––––––––––––––––––––––––––––––––––––––––––––––––––––––––––––––––––––––––––––––––––––"
   ]
  },
  {
   "cell_type": "markdown",
   "id": "b81f6602",
   "metadata": {},
   "source": [
    "<script>\n",
    "  $(document).ready(function(){\n",
    "    $('div.prompt').hide();\n",
    "    $('div.back-to-top').hide();\n",
    "    $('nav#menubar').hide();\n",
    "    $('.breadcrumb').hide();\n",
    "    $('.hidden-print').hide();\n",
    "  });\n",
    "</script>\n",
    "\n",
    "<footer id=\"attribution\" style=\"float:right; color:#808080; background:#fff;\">\n",
    "Creado con Jupyter por: Gustavo Adrián Herrera Barragán & Luis Eduardo Sánchez Soto.\n",
    "</footer>"
   ]
  }
 ],
 "metadata": {
  "kernelspec": {
   "display_name": "Python 3 (ipykernel)",
   "language": "python",
   "name": "python3"
  },
  "language_info": {
   "codemirror_mode": {
    "name": "ipython",
    "version": 3
   },
   "file_extension": ".py",
   "mimetype": "text/x-python",
   "name": "python",
   "nbconvert_exporter": "python",
   "pygments_lexer": "ipython3",
   "version": "3.9.12"
  }
 },
 "nbformat": 4,
 "nbformat_minor": 5
}
